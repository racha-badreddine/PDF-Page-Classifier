{
  "cells": [
    {
      "cell_type": "markdown",
      "metadata": {
        "id": "LlEBqz2yTJZk"
      },
      "source": [
        "# **IMPORT MODEL**"
      ]
    },
    {
      "cell_type": "code",
      "execution_count": null,
      "metadata": {
        "colab": {
          "base_uri": "https://localhost:8080/"
        },
        "id": "xhPW1YWJTJZl",
        "outputId": "d24bad11-1b33-42ea-b62f-08140bfb322a"
      },
      "outputs": [],
      "source": [
        "from keras.models import load_model\n",
        "import pickle\n",
        "\n",
        "# Define the paths\n",
        "model_path = 'model2.keras'\n",
        "tokenizer_path = 'tokenizer.pickle'\n",
        "label_encoder_path = 'label_encoder.pickle'\n",
        "\n",
        "model = load_model('model2.keras')\n",
        "\n",
        "# Load the tokenizer\n",
        "with open(tokenizer_path, 'rb') as handle:\n",
        "    tokenizer = pickle.load(handle)\n",
        "\n",
        "# Load the label encoder\n",
        "with open(label_encoder_path, 'rb') as handle:\n",
        "    label_encoder = pickle.load(handle)\n"
      ]
    },
    {
      "cell_type": "markdown",
      "metadata": {
        "id": "H6l7RVOnTJZn"
      },
      "source": [
        "# **PDF INPUT**"
      ]
    },
    {
      "cell_type": "code",
      "execution_count": null,
      "metadata": {
        "colab": {
          "base_uri": "https://localhost:8080/"
        },
        "id": "qiS8b7PeVEVa",
        "outputId": "5e494001-97a3-4772-b30d-47a02c4e0a6b"
      },
      "outputs": [],
      "source": [
        "!pip install PyMuPDF\n"
      ]
    },
    {
      "cell_type": "code",
      "execution_count": null,
      "metadata": {
        "colab": {
          "base_uri": "https://localhost:8080/"
        },
        "id": "tJyyAnx6TJZn",
        "outputId": "6f6fe208-9a9e-4044-cdde-35a1c8caf6cb"
      },
      "outputs": [],
      "source": [
        "import fitz\n",
        "import tensorflow as tf\n",
        "from keras.preprocessing.sequence import pad_sequences\n",
        "import re\n",
        "\n",
        "PATH_TO_PDF = 'PDF'\n",
        "\n",
        "def remove_non_characters(text):\n",
        "    # regular expression pattern\n",
        "    pattern = r'[^a-zA-ZçÇğĞıİöÖşŞüÜ\\s]'\n",
        "    cleaned_text = re.sub(pattern, '', text)\n",
        "    return cleaned_text\n",
        "\n",
        "def extract_text_from_pdf(pdf_path):\n",
        "    pdf_document = fitz.open(pdf_path)\n",
        "\n",
        "    # List for the PDF  Text\n",
        "    text_list = []\n",
        "\n",
        "    references_index = 0\n",
        "    search_words = [\"kaynaklar\", \"literatür listesi\", \"kaynaklar dizini\", \"kaynakça\", \"referanslar\", \"bibliyografya\"]\n",
        "\n",
        "    for page_num in range(len(pdf_document)):\n",
        "        page = pdf_document.load_page(page_num)\n",
        "        page_text = page.get_text()\n",
        "        text_list.append(page_text)\n",
        "\n",
        "    # ALgorithm to find References Page\n",
        "    for page_num in range(len(pdf_document)-1, 0, -1):\n",
        "      page = pdf_document.load_page(page_num)\n",
        "      page_text = page.get_text()\n",
        "\n",
        "      lines = page_text.split('\\n')\n",
        "      lines = [line for line in lines if line.strip()]\n",
        "      for line in range(min(len(lines),5)):\n",
        "          if remove_non_characters(lines[line]).strip().lower() in search_words:\n",
        "              references_index = page_num+1\n",
        "              pdf_document.close()\n",
        "              return text_list, references_index\n",
        "\n",
        "    pdf_document.close()\n",
        "    return text_list, references_index\n",
        "\n",
        "new_texts, references_index = extract_text_from_pdf(PATH_TO_PDF)\n",
        "new_sequences = tokenizer.texts_to_sequences(new_texts)\n",
        "new_padded_sequences = pad_sequences(new_sequences, maxlen=200, padding='post', truncating='post')\n",
        "\n",
        "predictions = tf.nn.sigmoid(model.predict(new_padded_sequences)).numpy()\n",
        "predicted_labels = (predictions > 0.5).astype(int)\n",
        "predicted_labels = label_encoder.inverse_transform(predicted_labels.flatten())\n",
        "\n",
        "output_list = []\n",
        "\n",
        "# Calculating length\n",
        "length = len(predicted_labels)\n",
        "\n",
        "# If not found make all pages after last 1 as 1\n",
        "if references_index == 0 or references_index < int(length * 0.5):\n",
        "    #update ekler(Appendix)\n",
        "    i = len(predicted_labels) - 1\n",
        "    while(predicted_labels[i] != 1):\n",
        "      predicted_labels[i] = 1\n",
        "      i -= 1\n",
        "else:\n",
        "    # Found\n",
        "    end = references_index - 1\n",
        "    found = True\n",
        "    for i in range(end, len(predicted_labels)):\n",
        "        predicted_labels[i] = 1\n",
        "\n",
        "for i in range(len(predicted_labels)):\n",
        "  if predicted_labels[i] == 1:\n",
        "    output_list.append(i+1)\n",
        "\n",
        "print(f\"Toplam sayfa sayısı: {len(predicted_labels)}\")\n",
        "print(output_list)"
      ]
    },
    {
      "cell_type": "code",
      "execution_count": null,
      "metadata": {
        "id": "ytM_sjdgVAKG"
      },
      "outputs": [],
      "source": []
    }
  ],
  "metadata": {
    "colab": {
      "provenance": []
    },
    "kernelspec": {
      "display_name": "Python 3",
      "language": "python",
      "name": "python3"
    },
    "language_info": {
      "codemirror_mode": {
        "name": "ipython",
        "version": 3
      },
      "file_extension": ".py",
      "mimetype": "text/x-python",
      "name": "python",
      "nbconvert_exporter": "python",
      "pygments_lexer": "ipython3",
      "version": "3.12.1"
    }
  },
  "nbformat": 4,
  "nbformat_minor": 0
}
